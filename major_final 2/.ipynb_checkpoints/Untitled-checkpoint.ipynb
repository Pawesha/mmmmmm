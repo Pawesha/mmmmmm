{
 "cells": [
  {
   "cell_type": "code",
   "execution_count": 1,
   "id": "1b926f51",
   "metadata": {},
   "outputs": [
    {
     "name": "stdout",
     "output_type": "stream",
     "text": [
      "hi\n"
     ]
    }
   ],
   "source": [
    "print('hi')"
   ]
  },
  {
   "cell_type": "code",
   "execution_count": 2,
   "id": "9dad41e5",
   "metadata": {},
   "outputs": [],
   "source": [
    "import pandas as pd\n",
    "from sklearn.model_selection import train_test_split, GridSearchCV\n",
    "from sklearn.metrics import mean_squared_error, r2_score, accuracy_score\n",
    "from sklearn.model_selection import cross_val_predict\n",
    "from sklearn.preprocessing import StandardScaler\n",
    "from math import sqrt\n",
    "from sklearn.svm import SVR\n",
    "from sklearn import svm\n",
    "import time"
   ]
  },
  {
   "cell_type": "code",
   "execution_count": 3,
   "id": "27d22066",
   "metadata": {},
   "outputs": [],
   "source": [
    "excel_file_path = \"/Users/paweshashrestha/Downloads/major_final 2/cleaned files/refined_data_all.xlsx\"\n",
    "df = pd.read_excel(excel_file_path)"
   ]
  },
  {
   "cell_type": "code",
   "execution_count": 4,
   "id": "624f5162",
   "metadata": {},
   "outputs": [
    {
     "name": "stdout",
     "output_type": "stream",
     "text": [
      "       YEAR  MO  DY  HR  DOTW  IS_HOLIDAY?    T2M\n",
      "0      2078   1   1   1     4            0  20.35\n",
      "1      2078   1   1   2     4            0  19.79\n",
      "2      2078   1   1   3     4            0  19.30\n",
      "3      2078   1   1   4     4            0  19.01\n",
      "4      2078   1   1   5     4            0  18.93\n",
      "...     ...  ..  ..  ..   ...          ...    ...\n",
      "23443  2080   8  30  20     7            1  10.45\n",
      "23444  2080   8  30  21     7            1   9.87\n",
      "23445  2080   8  30  22     7            1   9.49\n",
      "23446  2080   8  30  23     7            1   9.29\n",
      "23447  2080   8  30  24     7            1   9.38\n",
      "\n",
      "[23448 rows x 7 columns]\n"
     ]
    }
   ],
   "source": [
    "features = ['YEAR', 'MO', 'DY', 'HR', 'DOTW', 'IS_HOLIDAY?', 'T2M']\n",
    "X = df[features]\n",
    "y = df['electricity']\n",
    "X_train, X_test, y_train, y_test = train_test_split(X, y, test_size=0.2)\n",
    "print(X)"
   ]
  },
  {
   "cell_type": "code",
   "execution_count": 5,
   "id": "c74143be",
   "metadata": {},
   "outputs": [
    {
     "ename": "SyntaxError",
     "evalue": "invalid syntax (605531385.py, line 8)",
     "output_type": "error",
     "traceback": [
      "\u001b[0;36m  File \u001b[0;32m\"/var/folders/dn/17640q4n2xsdq_v3shyk2f380000gn/T/ipykernel_6373/605531385.py\"\u001b[0;36m, line \u001b[0;32m8\u001b[0m\n\u001b[0;31m    'C': [1,10,100,200,300,400,500,600,700,800],\u001b[0m\n\u001b[0m    ^\u001b[0m\n\u001b[0;31mSyntaxError\u001b[0m\u001b[0;31m:\u001b[0m invalid syntax\n"
     ]
    }
   ],
   "source": [
    "def train_svm(X_train, y_train,kernel = 'linear',C=6,degree=3):\n",
    "    model = SVR(kernel=kernel, C=C, degree=degree)\n",
    "    return model.fit(X_train, y_train)\n",
    "\n",
    "# Hyperparameter grid for GridSearchCV\n",
    "\n",
    "param_grid = {'kernel':['linear','poly','rbf','sigmoid'],'C': [1,10,100,200,300,400,500,600,700,800],\n",
    "              'degree': [6,8,9,10,11,12,13,14,15,16]}\n",
    "\n",
    "svm_model = SVR()\n",
    "grid_search = GridSearchCV(svm_model, param_grid, cv=5, scoring='neg_mean_squared_error', n_jobs=-1)\n",
    "grid_search.fit(X_train, y_train)\n",
    "\n",
    "best_kernel = grid_search.best_params_['kernel']\n",
    "best_C = grid_search.best_params_['C']\n",
    "best_degree = grid_search.best_params_['degree']\n",
    "print(f'''Best 'kernal' is {best_kernel} and best 'C' is{best_C} and best 'degree' is {best_degree}''')\n"
   ]
  },
  {
   "cell_type": "code",
   "execution_count": null,
   "id": "defbb5b7",
   "metadata": {},
   "outputs": [],
   "source": []
  }
 ],
 "metadata": {
  "kernelspec": {
   "display_name": "Python 3 (ipykernel)",
   "language": "python",
   "name": "python3"
  },
  "language_info": {
   "codemirror_mode": {
    "name": "ipython",
    "version": 3
   },
   "file_extension": ".py",
   "mimetype": "text/x-python",
   "name": "python",
   "nbconvert_exporter": "python",
   "pygments_lexer": "ipython3",
   "version": "3.9.18"
  }
 },
 "nbformat": 4,
 "nbformat_minor": 5
}
